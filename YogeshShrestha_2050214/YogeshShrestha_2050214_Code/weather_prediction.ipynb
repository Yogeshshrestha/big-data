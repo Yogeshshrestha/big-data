{
 "cells": [
  {
   "cell_type": "markdown",
   "id": "6bfaaeff",
   "metadata": {},
   "source": [
    "# Introduction"
   ]
  },
  {
   "cell_type": "code",
   "execution_count": 1,
   "id": "d77aea1e",
   "metadata": {},
   "outputs": [],
   "source": [
    "#This notebook aims to:\n",
    "#Analyse Each and Every Attributes in the data set.\n",
    "#Build Various ML Models with the view of increasing accuracy of the Model."
   ]
  },
  {
   "cell_type": "markdown",
   "id": "2368a86c",
   "metadata": {},
   "source": [
    "# Importing Required Libraries"
   ]
  },
  {
   "cell_type": "code",
   "execution_count": 2,
   "id": "bc11e656",
   "metadata": {},
   "outputs": [],
   "source": [
    "import pandas as pd  #data preprocessing, CSV file (e.g. pd.read_csv)\n",
    "import numpy as np  #linear algebra\n",
    "import matplotlib.pyplot as plt #visulaize data\n",
    "import seaborn as sns  #visalization of data\n",
    "import missingno as mso #visualize missing values\n",
    "%matplotlib inline\n",
    "\n",
    "#to ignore warnings\n",
    "import warnings\n",
    "warnings.filterwarnings('ignore')"
   ]
  },
  {
   "cell_type": "markdown",
   "id": "ddfa4199",
   "metadata": {},
   "source": [
    "# Analyzing Data"
   ]
  },
  {
   "cell_type": "raw",
   "id": "f474b8ba",
   "metadata": {},
   "source": [
    "There are 8 Variables in this Dataset:\n",
    "\n",
    "6 Continuous Variables.\n",
    "1 Variable to accommodate the Date.\n",
    "1 Variable refers the Weather"
   ]
  },
  {
   "cell_type": "code",
   "execution_count": 3,
   "id": "60a2bece",
   "metadata": {},
   "outputs": [],
   "source": [
    "#to read csv data\n",
    "data = pd.read_csv('seattle-weather.csv')"
   ]
  },
  {
   "cell_type": "code",
   "execution_count": 4,
   "id": "591e214f",
   "metadata": {},
   "outputs": [
    {
     "data": {
      "text/html": [
       "<div>\n",
       "<style scoped>\n",
       "    .dataframe tbody tr th:only-of-type {\n",
       "        vertical-align: middle;\n",
       "    }\n",
       "\n",
       "    .dataframe tbody tr th {\n",
       "        vertical-align: top;\n",
       "    }\n",
       "\n",
       "    .dataframe thead th {\n",
       "        text-align: right;\n",
       "    }\n",
       "</style>\n",
       "<table border=\"1\" class=\"dataframe\">\n",
       "  <thead>\n",
       "    <tr style=\"text-align: right;\">\n",
       "      <th></th>\n",
       "      <th>date</th>\n",
       "      <th>precipitation</th>\n",
       "      <th>temp_max</th>\n",
       "      <th>temp_min</th>\n",
       "      <th>wind</th>\n",
       "      <th>Summary</th>\n",
       "      <th>wind_drection</th>\n",
       "      <th>weather</th>\n",
       "    </tr>\n",
       "  </thead>\n",
       "  <tbody>\n",
       "    <tr>\n",
       "      <th>0</th>\n",
       "      <td>1/1/2012</td>\n",
       "      <td>0.0</td>\n",
       "      <td>12.8</td>\n",
       "      <td>5.0</td>\n",
       "      <td>4.7</td>\n",
       "      <td>Partly Cloudy</td>\n",
       "      <td>West</td>\n",
       "      <td>drizzle</td>\n",
       "    </tr>\n",
       "    <tr>\n",
       "      <th>1</th>\n",
       "      <td>1/2/2012</td>\n",
       "      <td>10.9</td>\n",
       "      <td>10.6</td>\n",
       "      <td>2.8</td>\n",
       "      <td>4.5</td>\n",
       "      <td>Partly Cloudy</td>\n",
       "      <td>North</td>\n",
       "      <td>rain</td>\n",
       "    </tr>\n",
       "    <tr>\n",
       "      <th>2</th>\n",
       "      <td>1/3/2012</td>\n",
       "      <td>0.8</td>\n",
       "      <td>11.7</td>\n",
       "      <td>7.2</td>\n",
       "      <td>2.3</td>\n",
       "      <td>Mostly Cloudy</td>\n",
       "      <td>North</td>\n",
       "      <td>rain</td>\n",
       "    </tr>\n",
       "    <tr>\n",
       "      <th>3</th>\n",
       "      <td>1/4/2012</td>\n",
       "      <td>20.3</td>\n",
       "      <td>12.2</td>\n",
       "      <td>5.6</td>\n",
       "      <td>4.7</td>\n",
       "      <td>Partly Cloudy</td>\n",
       "      <td>North</td>\n",
       "      <td>rain</td>\n",
       "    </tr>\n",
       "    <tr>\n",
       "      <th>4</th>\n",
       "      <td>1/5/2012</td>\n",
       "      <td>1.3</td>\n",
       "      <td>8.9</td>\n",
       "      <td>2.8</td>\n",
       "      <td>6.1</td>\n",
       "      <td>Mostly Cloudy</td>\n",
       "      <td>North</td>\n",
       "      <td>rain</td>\n",
       "    </tr>\n",
       "    <tr>\n",
       "      <th>5</th>\n",
       "      <td>1/6/2012</td>\n",
       "      <td>2.5</td>\n",
       "      <td>4.4</td>\n",
       "      <td>2.2</td>\n",
       "      <td>2.2</td>\n",
       "      <td>Partly Cloudy</td>\n",
       "      <td>North</td>\n",
       "      <td>rain</td>\n",
       "    </tr>\n",
       "    <tr>\n",
       "      <th>6</th>\n",
       "      <td>1/7/2012</td>\n",
       "      <td>0.0</td>\n",
       "      <td>7.2</td>\n",
       "      <td>2.8</td>\n",
       "      <td>2.3</td>\n",
       "      <td>Partly Cloudy</td>\n",
       "      <td>North</td>\n",
       "      <td>rain</td>\n",
       "    </tr>\n",
       "    <tr>\n",
       "      <th>7</th>\n",
       "      <td>1/8/2012</td>\n",
       "      <td>0.0</td>\n",
       "      <td>10.0</td>\n",
       "      <td>2.8</td>\n",
       "      <td>2.0</td>\n",
       "      <td>Partly Cloudy</td>\n",
       "      <td>North</td>\n",
       "      <td>sun</td>\n",
       "    </tr>\n",
       "  </tbody>\n",
       "</table>\n",
       "</div>"
      ],
      "text/plain": [
       "       date  precipitation  temp_max  temp_min  wind        Summary  \\\n",
       "0  1/1/2012            0.0      12.8       5.0   4.7  Partly Cloudy   \n",
       "1  1/2/2012           10.9      10.6       2.8   4.5  Partly Cloudy   \n",
       "2  1/3/2012            0.8      11.7       7.2   2.3  Mostly Cloudy   \n",
       "3  1/4/2012           20.3      12.2       5.6   4.7  Partly Cloudy   \n",
       "4  1/5/2012            1.3       8.9       2.8   6.1  Mostly Cloudy   \n",
       "5  1/6/2012            2.5       4.4       2.2   2.2  Partly Cloudy   \n",
       "6  1/7/2012            0.0       7.2       2.8   2.3  Partly Cloudy   \n",
       "7  1/8/2012            0.0      10.0       2.8   2.0  Partly Cloudy   \n",
       "\n",
       "  wind_drection  weather  \n",
       "0          West  drizzle  \n",
       "1         North     rain  \n",
       "2         North     rain  \n",
       "3         North     rain  \n",
       "4         North     rain  \n",
       "5         North     rain  \n",
       "6         North     rain  \n",
       "7         North      sun  "
      ]
     },
     "execution_count": 4,
     "metadata": {},
     "output_type": "execute_result"
    }
   ],
   "source": [
    "data.head(8)"
   ]
  },
  {
   "cell_type": "code",
   "execution_count": 5,
   "id": "857b8749",
   "metadata": {},
   "outputs": [
    {
     "name": "stdout",
     "output_type": "stream",
     "text": [
      "<class 'pandas.core.frame.DataFrame'>\n",
      "RangeIndex: 1461 entries, 0 to 1460\n",
      "Data columns (total 8 columns):\n",
      " #   Column         Non-Null Count  Dtype  \n",
      "---  ------         --------------  -----  \n",
      " 0   date           1461 non-null   object \n",
      " 1   precipitation  1436 non-null   float64\n",
      " 2   temp_max       1461 non-null   float64\n",
      " 3   temp_min       1461 non-null   float64\n",
      " 4   wind           1461 non-null   float64\n",
      " 5   Summary        1461 non-null   object \n",
      " 6   wind_drection  1461 non-null   object \n",
      " 7   weather        1461 non-null   object \n",
      "dtypes: float64(4), object(4)\n",
      "memory usage: 91.4+ KB\n"
     ]
    }
   ],
   "source": [
    "data.info()"
   ]
  },
  {
   "cell_type": "code",
   "execution_count": 6,
   "id": "0012317e",
   "metadata": {},
   "outputs": [
    {
     "data": {
      "text/plain": [
       "(1461, 8)"
      ]
     },
     "execution_count": 6,
     "metadata": {},
     "output_type": "execute_result"
    }
   ],
   "source": [
    "data.shape"
   ]
  },
  {
   "cell_type": "markdown",
   "id": "31accb4a",
   "metadata": {},
   "source": [
    "# Data Exploration"
   ]
  },
  {
   "cell_type": "code",
   "execution_count": 7,
   "id": "f280edeb",
   "metadata": {},
   "outputs": [
    {
     "data": {
      "text/plain": [
       "<AxesSubplot:xlabel='weather', ylabel='count'>"
      ]
     },
     "execution_count": 7,
     "metadata": {},
     "output_type": "execute_result"
    },
    {
     "data": {
      "image/png": "[encoded data removed]",
      "text/plain": [
       "<Figure size 432x288 with 1 Axes>"
      ]
     },
     "metadata": {
      "needs_background": "light"
     },
     "output_type": "display_data"
    }
   ],
   "source": [
    "sns.countplot(\"weather\",data=data,palette=\"hls\")"
   ]
  },
  {
   "cell_type": "markdown",
   "id": "ce07fedf",
   "metadata": {},
   "source": [
    "this data shows, the sum of drizzle, rain, sun weather, snow,and fog days. whereas, ranin and sun weather day ahs highest count but snow has lowest count."
   ]
  },
  {
   "cell_type": "code",
   "execution_count": 8,
   "id": "2bcb04e4",
   "metadata": {},
   "outputs": [
    {
     "name": "stdout",
     "output_type": "stream",
     "text": [
      "Percent of Rain:43.874059%\n",
      "Percent of Sun:43.805613%\n",
      "Percent of Drizzle:3.627652%\n",
      "Percent of Snow:1.779603%\n",
      "Percent of Fog:6.913073%\n"
     ]
    }
   ],
   "source": [
    "#Displaying percentage of day's data\n",
    "countrain=len(data[data.weather==\"rain\"])\n",
    "countsun=len(data[data.weather==\"sun\"])\n",
    "countdrizzle=len(data[data.weather==\"drizzle\"])\n",
    "countsnow=len(data[data.weather==\"snow\"])\n",
    "countfog=len(data[data.weather==\"fog\"])\n",
    "print(\"Percent of Rain:{:2f}%\".format((countrain/(len(data.weather))*100)))\n",
    "print(\"Percent of Sun:{:2f}%\".format((countsun/(len(data.weather))*100)))\n",
    "print(\"Percent of Drizzle:{:2f}%\".format((countdrizzle/(len(data.weather))*100)))\n",
    "print(\"Percent of Snow:{:2f}%\".format((countsnow/(len(data.weather))*100)))\n",
    "print(\"Percent of Fog:{:2f}%\".format((countfog/(len(data.weather))*100)))"
   ]
  },
  {
   "cell_type": "markdown",
   "id": "6bb2b43f",
   "metadata": {},
   "source": [
    "It shows rainny percentage is higher and snow percentage is lower."
   ]
  },
  {
   "cell_type": "markdown",
   "id": "40351883",
   "metadata": {},
   "source": [
    "# Numerical Or Continuous variables"
   ]
  },
  {
   "cell_type": "code",
   "execution_count": 9,
   "id": "57d7a10a",
   "metadata": {},
   "outputs": [
    {
     "data": {
      "text/html": [
       "<div>\n",
       "<style scoped>\n",
       "    .dataframe tbody tr th:only-of-type {\n",
       "        vertical-align: middle;\n",
       "    }\n",
       "\n",
       "    .dataframe tbody tr th {\n",
       "        vertical-align: top;\n",
       "    }\n",
       "\n",
       "    .dataframe thead th {\n",
       "        text-align: right;\n",
       "    }\n",
       "</style>\n",
       "<table border=\"1\" class=\"dataframe\">\n",
       "  <thead>\n",
       "    <tr style=\"text-align: right;\">\n",
       "      <th></th>\n",
       "      <th>precipitation</th>\n",
       "      <th>temp_max</th>\n",
       "      <th>temp_min</th>\n",
       "      <th>wind</th>\n",
       "    </tr>\n",
       "  </thead>\n",
       "  <tbody>\n",
       "    <tr>\n",
       "      <th>count</th>\n",
       "      <td>1436.000000</td>\n",
       "      <td>1461.000000</td>\n",
       "      <td>1461.000000</td>\n",
       "      <td>1461.000000</td>\n",
       "    </tr>\n",
       "    <tr>\n",
       "      <th>mean</th>\n",
       "      <td>3.010237</td>\n",
       "      <td>16.439083</td>\n",
       "      <td>8.234771</td>\n",
       "      <td>3.241136</td>\n",
       "    </tr>\n",
       "    <tr>\n",
       "      <th>std</th>\n",
       "      <td>6.654280</td>\n",
       "      <td>7.349758</td>\n",
       "      <td>5.023004</td>\n",
       "      <td>1.437825</td>\n",
       "    </tr>\n",
       "    <tr>\n",
       "      <th>min</th>\n",
       "      <td>0.000000</td>\n",
       "      <td>-1.600000</td>\n",
       "      <td>-7.100000</td>\n",
       "      <td>0.400000</td>\n",
       "    </tr>\n",
       "    <tr>\n",
       "      <th>25%</th>\n",
       "      <td>0.000000</td>\n",
       "      <td>10.600000</td>\n",
       "      <td>4.400000</td>\n",
       "      <td>2.200000</td>\n",
       "    </tr>\n",
       "    <tr>\n",
       "      <th>50%</th>\n",
       "      <td>0.000000</td>\n",
       "      <td>15.600000</td>\n",
       "      <td>8.300000</td>\n",
       "      <td>3.000000</td>\n",
       "    </tr>\n",
       "    <tr>\n",
       "      <th>75%</th>\n",
       "      <td>2.800000</td>\n",
       "      <td>22.200000</td>\n",
       "      <td>12.200000</td>\n",
       "      <td>4.000000</td>\n",
       "    </tr>\n",
       "    <tr>\n",
       "      <th>max</th>\n",
       "      <td>55.900000</td>\n",
       "      <td>35.600000</td>\n",
       "      <td>18.300000</td>\n",
       "      <td>9.500000</td>\n",
       "    </tr>\n",
       "  </tbody>\n",
       "</table>\n",
       "</div>"
      ],
      "text/plain": [
       "       precipitation     temp_max     temp_min         wind\n",
       "count    1436.000000  1461.000000  1461.000000  1461.000000\n",
       "mean        3.010237    16.439083     8.234771     3.241136\n",
       "std         6.654280     7.349758     5.023004     1.437825\n",
       "min         0.000000    -1.600000    -7.100000     0.400000\n",
       "25%         0.000000    10.600000     4.400000     2.200000\n",
       "50%         0.000000    15.600000     8.300000     3.000000\n",
       "75%         2.800000    22.200000    12.200000     4.000000\n",
       "max        55.900000    35.600000    18.300000     9.500000"
      ]
     },
     "execution_count": 9,
     "metadata": {},
     "output_type": "execute_result"
    }
   ],
   "source": [
    "data[[\"precipitation\",\"temp_max\",\"temp_min\",\"wind\"]].describe()"
   ]
  },
  {
   "cell_type": "code",
   "execution_count": 10,
   "id": "cf43b91f",
   "metadata": {},
   "outputs": [
    {
     "data": {
      "text/html": [
       "<div>\n",
       "<style scoped>\n",
       "    .dataframe tbody tr th:only-of-type {\n",
       "        vertical-align: middle;\n",
       "    }\n",
       "\n",
       "    .dataframe tbody tr th {\n",
       "        vertical-align: top;\n",
       "    }\n",
       "\n",
       "    .dataframe thead th {\n",
       "        text-align: right;\n",
       "    }\n",
       "</style>\n",
       "<table border=\"1\" class=\"dataframe\">\n",
       "  <thead>\n",
       "    <tr style=\"text-align: right;\">\n",
       "      <th></th>\n",
       "      <th>precipitation</th>\n",
       "      <th>temp_max</th>\n",
       "      <th>temp_min</th>\n",
       "      <th>wind</th>\n",
       "    </tr>\n",
       "  </thead>\n",
       "  <tbody>\n",
       "    <tr>\n",
       "      <th>precipitation</th>\n",
       "      <td>1.000000</td>\n",
       "      <td>-0.236824</td>\n",
       "      <td>-0.085276</td>\n",
       "      <td>0.327079</td>\n",
       "    </tr>\n",
       "    <tr>\n",
       "      <th>temp_max</th>\n",
       "      <td>-0.236824</td>\n",
       "      <td>1.000000</td>\n",
       "      <td>0.875687</td>\n",
       "      <td>-0.164857</td>\n",
       "    </tr>\n",
       "    <tr>\n",
       "      <th>temp_min</th>\n",
       "      <td>-0.085276</td>\n",
       "      <td>0.875687</td>\n",
       "      <td>1.000000</td>\n",
       "      <td>-0.074185</td>\n",
       "    </tr>\n",
       "    <tr>\n",
       "      <th>wind</th>\n",
       "      <td>0.327079</td>\n",
       "      <td>-0.164857</td>\n",
       "      <td>-0.074185</td>\n",
       "      <td>1.000000</td>\n",
       "    </tr>\n",
       "  </tbody>\n",
       "</table>\n",
       "</div>"
      ],
      "text/plain": [
       "               precipitation  temp_max  temp_min      wind\n",
       "precipitation       1.000000 -0.236824 -0.085276  0.327079\n",
       "temp_max           -0.236824  1.000000  0.875687 -0.164857\n",
       "temp_min           -0.085276  0.875687  1.000000 -0.074185\n",
       "wind                0.327079 -0.164857 -0.074185  1.000000"
      ]
     },
     "execution_count": 10,
     "metadata": {},
     "output_type": "execute_result"
    }
   ],
   "source": [
    "data.corr()"
   ]
  },
  {
   "cell_type": "code",
   "execution_count": 11,
   "id": "46173529",
   "metadata": {},
   "outputs": [
    {
     "data": {
      "text/plain": [
       "<AxesSubplot:xlabel='wind', ylabel='Count'>"
      ]
     },
     "execution_count": 11,
     "metadata": {},
     "output_type": "execute_result"
    },
    {
     "data": {
      "image/png": "[encoded data removed]",
      "text/plain": [
       "<Figure size 720x576 with 4 Axes>"
      ]
     },
     "metadata": {},
     "output_type": "display_data"
    }
   ],
   "source": [
    "#Distribution of numerical value using Histogram plot\n",
    "sns.set(style=\"darkgrid\")\n",
    "fig,axs=plt.subplots(2,2,figsize=(10,8))\n",
    "sns.histplot(data=data,x=\"precipitation\",kde=True,ax=axs[0,0],color='green')\n",
    "sns.histplot(data=data,x=\"temp_max\",kde=True,ax=axs[0,1],color='red')\n",
    "sns.histplot(data=data,x=\"temp_min\",kde=True,ax=axs[1,0],color='skyblue')\n",
    "sns.histplot(data=data,x=\"wind\",kde=True,ax=axs[1,1],color='orange')"
   ]
  },
  {
   "cell_type": "markdown",
   "id": "f7496170",
   "metadata": {},
   "source": [
    "Precipitation and wind are both sensitive to outliers, as shown in the above histogram.\n",
    "And temp min is negatively skewed, with some outliers with both."
   ]
  },
  {
   "cell_type": "markdown",
   "id": "18ae8d08",
   "metadata": {},
   "source": [
    "# Finding Outliers"
   ]
  },
  {
   "cell_type": "code",
   "execution_count": 12,
   "id": "3bffdaa4",
   "metadata": {},
   "outputs": [
    {
     "data": {
      "text/plain": [
       "<AxesSubplot:xlabel='precipitation', ylabel='weather'>"
      ]
     },
     "execution_count": 12,
     "metadata": {},
     "output_type": "execute_result"
    },
    {
     "data": {
      "image/png": "[encoded data removed]",
      "text/plain": [
       "<Figure size 864x432 with 1 Axes>"
      ]
     },
     "metadata": {},
     "output_type": "display_data"
    }
   ],
   "source": [
    "#plotting data of precipitation and weather columns\n",
    "plt.figure(figsize=(12,6))\n",
    "sns.boxplot(\"precipitation\",\"weather\",data=data,palette=\"YlOrBr\")"
   ]
  },
  {
   "cell_type": "markdown",
   "id": "eb866c82",
   "metadata": {},
   "source": [
    "The value comes from the above box plot between Weather and Precipitation. Rain has a lot of positive outliers, and both Rain and Snow are favorably biased."
   ]
  },
  {
   "cell_type": "code",
   "execution_count": 13,
   "id": "50951838",
   "metadata": {},
   "outputs": [
    {
     "data": {
      "text/plain": [
       "<AxesSubplot:xlabel='temp_max', ylabel='weather'>"
      ]
     },
     "execution_count": 13,
     "metadata": {},
     "output_type": "execute_result"
    },
    {
     "data": {
      "image/png": "[encoded data removed]",
      "text/plain": [
       "<Figure size 864x432 with 1 Axes>"
      ]
     },
     "metadata": {},
     "output_type": "display_data"
    }
   ],
   "source": [
    "#plotting data of temp_max and weather columns\n",
    "plt.figure(figsize=(12,6))\n",
    "sns.boxplot(\"temp_max\",\"weather\",data=data,palette=\"inferno\")"
   ]
  },
  {
   "cell_type": "code",
   "execution_count": 14,
   "id": "77ef460a",
   "metadata": {},
   "outputs": [
    {
     "data": {
      "text/plain": [
       "<AxesSubplot:xlabel='wind', ylabel='weather'>"
      ]
     },
     "execution_count": 14,
     "metadata": {},
     "output_type": "execute_result"
    },
    {
     "data": {
      "image/png": "[encoded data removed]",
      "text/plain": [
       "<Figure size 864x432 with 1 Axes>"
      ]
     },
     "metadata": {},
     "output_type": "display_data"
    }
   ],
   "source": [
    "#plotting data of wind and weather columns\n",
    "plt.figure(figsize=(12,6))\n",
    "sns.boxplot(\"wind\",\"weather\",data=data,palette=\"inferno\")"
   ]
  },
  {
   "cell_type": "code",
   "execution_count": 15,
   "id": "1396190b",
   "metadata": {},
   "outputs": [
    {
     "data": {
      "text/plain": [
       "<AxesSubplot:xlabel='temp_min', ylabel='weather'>"
      ]
     },
     "execution_count": 15,
     "metadata": {},
     "output_type": "execute_result"
    },
    {
     "data": {
      "image/png": "[encoded data removed]",
      "text/plain": [
       "<Figure size 864x432 with 1 Axes>"
      ]
     },
     "metadata": {},
     "output_type": "display_data"
    }
   ],
   "source": [
    "#plotting data of temp_min and weather columns\n",
    "plt.figure(figsize=(12,6))\n",
    "sns.boxplot(\"temp_min\",\"weather\",data=data,palette=\"YlOrBr\")"
   ]
  },
  {
   "cell_type": "markdown",
   "id": "f9f470e7",
   "metadata": {},
   "source": [
    "Some data has negatives outliers, while others have both positively and negatively outliers, and snow is biased negatively."
   ]
  },
  {
   "cell_type": "code",
   "execution_count": 16,
   "id": "55a74113",
   "metadata": {},
   "outputs": [
    {
     "data": {
      "text/plain": [
       "<AxesSubplot:>"
      ]
     },
     "execution_count": 16,
     "metadata": {},
     "output_type": "execute_result"
    },
    {
     "data": {
      "image/png": "[encoded data removed]",
      "text/plain": [
       "<Figure size 864x504 with 2 Axes>"
      ]
     },
     "metadata": {},
     "output_type": "display_data"
    }
   ],
   "source": [
    "#using heatmap to visualize\n",
    "plt.figure(figsize=(12,7))\n",
    "sns.heatmap(data.corr(),annot=True,cmap='coolwarm')"
   ]
  },
  {
   "cell_type": "code",
   "execution_count": 17,
   "id": "b6a0e47e",
   "metadata": {},
   "outputs": [
    {
     "name": "stdout",
     "output_type": "stream",
     "text": [
      "Pearson correlation: -0.2368243718238276\n"
     ]
    },
    {
     "data": {
      "image/png": "[encoded data removed]",
      "text/plain": [
       "<Figure size 432x288 with 1 Axes>"
      ]
     },
     "metadata": {},
     "output_type": "display_data"
    }
   ],
   "source": [
    "#numerical graphical visualization\n",
    "data.plot(\"precipitation\",\"temp_max\",style='o') \n",
    "print(\"Pearson correlation:\",data[\"precipitation\"].corr(data[\"temp_max\"]))"
   ]
  },
  {
   "cell_type": "code",
   "execution_count": 18,
   "id": "64b78960",
   "metadata": {},
   "outputs": [
    {
     "name": "stdout",
     "output_type": "stream",
     "text": [
      "Pearson correlation: -0.1648566348749548\n"
     ]
    },
    {
     "data": {
      "image/png": "[encoded data removed]",
      "text/plain": [
       "<Figure size 432x288 with 1 Axes>"
      ]
     },
     "metadata": {},
     "output_type": "display_data"
    }
   ],
   "source": [
    "data.plot(\"wind\",\"temp_max\",style='o') \n",
    "print(\"Pearson correlation:\",data[\"wind\"].corr(data[\"temp_max\"]))"
   ]
  },
  {
   "cell_type": "code",
   "execution_count": 19,
   "id": "6660ced6",
   "metadata": {},
   "outputs": [
    {
     "data": {
      "text/plain": [
       "<AxesSubplot:xlabel='temp_max'>"
      ]
     },
     "execution_count": 19,
     "metadata": {},
     "output_type": "execute_result"
    },
    {
     "data": {
      "image/png": "[encoded data removed]",
      "text/plain": [
       "<Figure size 432x288 with 1 Axes>"
      ]
     },
     "metadata": {},
     "output_type": "display_data"
    }
   ],
   "source": [
    "data.plot(\"temp_max\",\"temp_min\",style='o') "
   ]
  },
  {
   "cell_type": "markdown",
   "id": "98474deb",
   "metadata": {},
   "source": [
    "# Null Values"
   ]
  },
  {
   "cell_type": "code",
   "execution_count": 20,
   "id": "6ab7a2b9",
   "metadata": {},
   "outputs": [
    {
     "data": {
      "text/plain": [
       "date              0\n",
       "precipitation    25\n",
       "temp_max          0\n",
       "temp_min          0\n",
       "wind              0\n",
       "Summary           0\n",
       "wind_drection     0\n",
       "weather           0\n",
       "dtype: int64"
      ]
     },
     "execution_count": 20,
     "metadata": {},
     "output_type": "execute_result"
    }
   ],
   "source": [
    "#checking is their any null value\n",
    "data.isna().sum()"
   ]
  },
  {
   "cell_type": "markdown",
   "id": "ba7ced24",
   "metadata": {},
   "source": [
    "It shows precipition column has 25 null values"
   ]
  },
  {
   "cell_type": "code",
   "execution_count": 21,
   "id": "351b971b",
   "metadata": {},
   "outputs": [
    {
     "data": {
      "text/plain": [
       "0.0     828\n",
       "0.3      52\n",
       "0.5      39\n",
       "1.0      25\n",
       "1.5      25\n",
       "       ... \n",
       "16.8      1\n",
       "30.0      1\n",
       "26.4      1\n",
       "19.1      1\n",
       "21.8      1\n",
       "Name: precipitation, Length: 109, dtype: int64"
      ]
     },
     "execution_count": 21,
     "metadata": {},
     "output_type": "execute_result"
    }
   ],
   "source": [
    "#checking for same number's sum\n",
    "data['precipitation'].value_counts()"
   ]
  },
  {
   "cell_type": "code",
   "execution_count": 22,
   "id": "cc553d42",
   "metadata": {},
   "outputs": [],
   "source": [
    "#filling null values\n",
    "data['precipitation'].fillna(method='ffill',inplace=True,axis=0)"
   ]
  },
  {
   "cell_type": "code",
   "execution_count": 23,
   "id": "f0ee6669",
   "metadata": {},
   "outputs": [
    {
     "data": {
      "text/plain": [
       "0.0     843\n",
       "0.3      52\n",
       "0.5      39\n",
       "1.0      26\n",
       "0.8      25\n",
       "       ... \n",
       "16.8      1\n",
       "30.0      1\n",
       "26.4      1\n",
       "19.1      1\n",
       "21.8      1\n",
       "Name: precipitation, Length: 109, dtype: int64"
      ]
     },
     "execution_count": 23,
     "metadata": {},
     "output_type": "execute_result"
    }
   ],
   "source": [
    "data['precipitation'].value_counts()"
   ]
  },
  {
   "cell_type": "code",
   "execution_count": 24,
   "id": "7f73f686",
   "metadata": {},
   "outputs": [
    {
     "data": {
      "text/plain": [
       "date             0\n",
       "precipitation    0\n",
       "temp_max         0\n",
       "temp_min         0\n",
       "wind             0\n",
       "Summary          0\n",
       "wind_drection    0\n",
       "weather          0\n",
       "dtype: int64"
      ]
     },
     "execution_count": 24,
     "metadata": {},
     "output_type": "execute_result"
    }
   ],
   "source": [
    "#checking null values\n",
    "data.isna().sum()"
   ]
  },
  {
   "cell_type": "markdown",
   "id": "f711d233",
   "metadata": {},
   "source": [
    "Now, their is non null values in the data sets."
   ]
  },
  {
   "cell_type": "code",
   "execution_count": 25,
   "id": "9d2cadbc",
   "metadata": {},
   "outputs": [
    {
     "data": {
      "image/png": "[encoded data removed]",
      "text/plain": [
       "<Figure size 864x432 with 3 Axes>"
      ]
     },
     "metadata": {},
     "output_type": "display_data"
    }
   ],
   "source": [
    "plt.figure(figsize=(12,6))\n",
    "axz=plt.subplot(1,2,2)\n",
    "mso.bar(data.drop([\"date\"],axis=1),ax=axz,fontsize=10);"
   ]
  },
  {
   "cell_type": "markdown",
   "id": "077ed374",
   "metadata": {},
   "source": [
    "The fig shows, their is no null value in the data set."
   ]
  },
  {
   "cell_type": "markdown",
   "id": "efeb1001",
   "metadata": {},
   "source": [
    "# Data Preprocessing"
   ]
  },
  {
   "cell_type": "code",
   "execution_count": 26,
   "id": "5c4ada72",
   "metadata": {},
   "outputs": [],
   "source": [
    "#Droping unnecessary variables becasue it does not affect any changes in our data outcomes. \n",
    "df=data.drop([\"date\"],axis=1)"
   ]
  },
  {
   "cell_type": "code",
   "execution_count": 27,
   "id": "e663159a",
   "metadata": {},
   "outputs": [],
   "source": [
    "#Removing the outliers\n",
    "Q1=df.quantile(0.25)\n",
    "Q3=df.quantile(0.75)\n",
    "IQR=Q3-Q1\n",
    "df=df[~((df<(Q1-1.5*IQR))|(df>(Q3+1.5*IQR))).any(axis=1)]"
   ]
  },
  {
   "cell_type": "code",
   "execution_count": 28,
   "id": "7500c47d",
   "metadata": {},
   "outputs": [],
   "source": [
    "#Correction for standard deviation\n",
    "df.precipitation=np.sqrt(df.precipitation)\n",
    "df.wind=np.sqrt(df.wind)"
   ]
  },
  {
   "cell_type": "code",
   "execution_count": 29,
   "id": "d9d89fe7",
   "metadata": {},
   "outputs": [
    {
     "data": {
      "text/plain": [
       "<AxesSubplot:xlabel='wind', ylabel='Count'>"
      ]
     },
     "execution_count": 29,
     "metadata": {},
     "output_type": "execute_result"
    },
    {
     "data": {
      "image/png": "[encoded data removed]",
      "text/plain": [
       "<Figure size 720x576 with 4 Axes>"
      ]
     },
     "metadata": {},
     "output_type": "display_data"
    }
   ],
   "source": [
    "#cheking for the outliers\n",
    "sns.set(style=\"darkgrid\")\n",
    "fig,axs=plt.subplots(2,2,figsize=(10,8))\n",
    "sns.histplot(data=df,x=\"precipitation\",kde=True,ax=axs[0,0],color='green')\n",
    "sns.histplot(data=df,x=\"temp_max\",kde=True,ax=axs[0,1],color='red')\n",
    "sns.histplot(data=df,x=\"temp_min\",kde=True,ax=axs[1,0],color='skyblue')\n",
    "sns.histplot(data=df,x=\"wind\",kde=True,ax=axs[1,1],color='orange')"
   ]
  },
  {
   "cell_type": "code",
   "execution_count": 30,
   "id": "eed9d347",
   "metadata": {},
   "outputs": [
    {
     "data": {
      "text/html": [
       "<div>\n",
       "<style scoped>\n",
       "    .dataframe tbody tr th:only-of-type {\n",
       "        vertical-align: middle;\n",
       "    }\n",
       "\n",
       "    .dataframe tbody tr th {\n",
       "        vertical-align: top;\n",
       "    }\n",
       "\n",
       "    .dataframe thead th {\n",
       "        text-align: right;\n",
       "    }\n",
       "</style>\n",
       "<table border=\"1\" class=\"dataframe\">\n",
       "  <thead>\n",
       "    <tr style=\"text-align: right;\">\n",
       "      <th></th>\n",
       "      <th>precipitation</th>\n",
       "      <th>temp_max</th>\n",
       "      <th>temp_min</th>\n",
       "      <th>wind</th>\n",
       "      <th>Summary</th>\n",
       "      <th>wind_drection</th>\n",
       "      <th>weather</th>\n",
       "    </tr>\n",
       "  </thead>\n",
       "  <tbody>\n",
       "    <tr>\n",
       "      <th>0</th>\n",
       "      <td>0.000000</td>\n",
       "      <td>12.8</td>\n",
       "      <td>5.0</td>\n",
       "      <td>2.167948</td>\n",
       "      <td>Partly Cloudy</td>\n",
       "      <td>West</td>\n",
       "      <td>drizzle</td>\n",
       "    </tr>\n",
       "    <tr>\n",
       "      <th>2</th>\n",
       "      <td>0.894427</td>\n",
       "      <td>11.7</td>\n",
       "      <td>7.2</td>\n",
       "      <td>1.516575</td>\n",
       "      <td>Mostly Cloudy</td>\n",
       "      <td>North</td>\n",
       "      <td>rain</td>\n",
       "    </tr>\n",
       "    <tr>\n",
       "      <th>4</th>\n",
       "      <td>1.140175</td>\n",
       "      <td>8.9</td>\n",
       "      <td>2.8</td>\n",
       "      <td>2.469818</td>\n",
       "      <td>Mostly Cloudy</td>\n",
       "      <td>North</td>\n",
       "      <td>rain</td>\n",
       "    </tr>\n",
       "    <tr>\n",
       "      <th>5</th>\n",
       "      <td>1.581139</td>\n",
       "      <td>4.4</td>\n",
       "      <td>2.2</td>\n",
       "      <td>1.483240</td>\n",
       "      <td>Partly Cloudy</td>\n",
       "      <td>North</td>\n",
       "      <td>rain</td>\n",
       "    </tr>\n",
       "    <tr>\n",
       "      <th>6</th>\n",
       "      <td>0.000000</td>\n",
       "      <td>7.2</td>\n",
       "      <td>2.8</td>\n",
       "      <td>1.516575</td>\n",
       "      <td>Partly Cloudy</td>\n",
       "      <td>North</td>\n",
       "      <td>rain</td>\n",
       "    </tr>\n",
       "  </tbody>\n",
       "</table>\n",
       "</div>"
      ],
      "text/plain": [
       "   precipitation  temp_max  temp_min      wind        Summary wind_drection  \\\n",
       "0       0.000000      12.8       5.0  2.167948  Partly Cloudy          West   \n",
       "2       0.894427      11.7       7.2  1.516575  Mostly Cloudy         North   \n",
       "4       1.140175       8.9       2.8  2.469818  Mostly Cloudy         North   \n",
       "5       1.581139       4.4       2.2  1.483240  Partly Cloudy         North   \n",
       "6       0.000000       7.2       2.8  1.516575  Partly Cloudy         North   \n",
       "\n",
       "   weather  \n",
       "0  drizzle  \n",
       "2     rain  \n",
       "4     rain  \n",
       "5     rain  \n",
       "6     rain  "
      ]
     },
     "execution_count": 30,
     "metadata": {},
     "output_type": "execute_result"
    }
   ],
   "source": [
    "df.head()"
   ]
  },
  {
   "cell_type": "markdown",
   "id": "a0b75017",
   "metadata": {},
   "source": [
    "### LabelEncoder"
   ]
  },
  {
   "cell_type": "code",
   "execution_count": 31,
   "id": "2be3a749",
   "metadata": {},
   "outputs": [],
   "source": [
    "#Using the label encoder to scale the weather, summary, wind_direction variables:\n",
    "from sklearn.preprocessing import StandardScaler,LabelEncoder\n",
    "le=LabelEncoder()\n",
    "\n",
    "#converting categorical data into numerical\n",
    "df[\"weather\"]=le.fit_transform(df[\"weather\"])\n",
    "df[\"Summary\"]=le.fit_transform(df[\"Summary\"])\n",
    "df[\"wind_drection\"]=le.fit_transform(df[\"wind_drection\"])"
   ]
  },
  {
   "cell_type": "code",
   "execution_count": 32,
   "id": "215a1ab4",
   "metadata": {},
   "outputs": [
    {
     "data": {
      "text/html": [
       "<div>\n",
       "<style scoped>\n",
       "    .dataframe tbody tr th:only-of-type {\n",
       "        vertical-align: middle;\n",
       "    }\n",
       "\n",
       "    .dataframe tbody tr th {\n",
       "        vertical-align: top;\n",
       "    }\n",
       "\n",
       "    .dataframe thead th {\n",
       "        text-align: right;\n",
       "    }\n",
       "</style>\n",
       "<table border=\"1\" class=\"dataframe\">\n",
       "  <thead>\n",
       "    <tr style=\"text-align: right;\">\n",
       "      <th></th>\n",
       "      <th>precipitation</th>\n",
       "      <th>temp_max</th>\n",
       "      <th>temp_min</th>\n",
       "      <th>wind</th>\n",
       "      <th>Summary</th>\n",
       "      <th>wind_drection</th>\n",
       "      <th>weather</th>\n",
       "    </tr>\n",
       "  </thead>\n",
       "  <tbody>\n",
       "    <tr>\n",
       "      <th>983</th>\n",
       "      <td>0.000000</td>\n",
       "      <td>22.2</td>\n",
       "      <td>12.2</td>\n",
       "      <td>1.974842</td>\n",
       "      <td>3</td>\n",
       "      <td>7</td>\n",
       "      <td>4</td>\n",
       "    </tr>\n",
       "    <tr>\n",
       "      <th>560</th>\n",
       "      <td>0.000000</td>\n",
       "      <td>27.8</td>\n",
       "      <td>12.8</td>\n",
       "      <td>1.732051</td>\n",
       "      <td>6</td>\n",
       "      <td>7</td>\n",
       "      <td>4</td>\n",
       "    </tr>\n",
       "    <tr>\n",
       "      <th>1280</th>\n",
       "      <td>0.000000</td>\n",
       "      <td>33.3</td>\n",
       "      <td>15.0</td>\n",
       "      <td>1.702939</td>\n",
       "      <td>7</td>\n",
       "      <td>11</td>\n",
       "      <td>4</td>\n",
       "    </tr>\n",
       "    <tr>\n",
       "      <th>56</th>\n",
       "      <td>1.140175</td>\n",
       "      <td>5.0</td>\n",
       "      <td>-1.1</td>\n",
       "      <td>1.843909</td>\n",
       "      <td>8</td>\n",
       "      <td>7</td>\n",
       "      <td>3</td>\n",
       "    </tr>\n",
       "    <tr>\n",
       "      <th>749</th>\n",
       "      <td>0.000000</td>\n",
       "      <td>6.1</td>\n",
       "      <td>3.3</td>\n",
       "      <td>1.581139</td>\n",
       "      <td>8</td>\n",
       "      <td>15</td>\n",
       "      <td>4</td>\n",
       "    </tr>\n",
       "    <tr>\n",
       "      <th>923</th>\n",
       "      <td>0.000000</td>\n",
       "      <td>32.2</td>\n",
       "      <td>16.7</td>\n",
       "      <td>1.483240</td>\n",
       "      <td>3</td>\n",
       "      <td>7</td>\n",
       "      <td>4</td>\n",
       "    </tr>\n",
       "    <tr>\n",
       "      <th>85</th>\n",
       "      <td>0.000000</td>\n",
       "      <td>12.8</td>\n",
       "      <td>6.1</td>\n",
       "      <td>2.073644</td>\n",
       "      <td>6</td>\n",
       "      <td>13</td>\n",
       "      <td>0</td>\n",
       "    </tr>\n",
       "    <tr>\n",
       "      <th>1088</th>\n",
       "      <td>2.302173</td>\n",
       "      <td>7.2</td>\n",
       "      <td>3.9</td>\n",
       "      <td>1.341641</td>\n",
       "      <td>8</td>\n",
       "      <td>14</td>\n",
       "      <td>2</td>\n",
       "    </tr>\n",
       "    <tr>\n",
       "      <th>147</th>\n",
       "      <td>0.000000</td>\n",
       "      <td>17.2</td>\n",
       "      <td>11.7</td>\n",
       "      <td>1.923538</td>\n",
       "      <td>6</td>\n",
       "      <td>7</td>\n",
       "      <td>4</td>\n",
       "    </tr>\n",
       "    <tr>\n",
       "      <th>755</th>\n",
       "      <td>0.000000</td>\n",
       "      <td>12.2</td>\n",
       "      <td>1.1</td>\n",
       "      <td>0.894427</td>\n",
       "      <td>8</td>\n",
       "      <td>14</td>\n",
       "      <td>4</td>\n",
       "    </tr>\n",
       "  </tbody>\n",
       "</table>\n",
       "</div>"
      ],
      "text/plain": [
       "      precipitation  temp_max  temp_min      wind  Summary  wind_drection  \\\n",
       "983        0.000000      22.2      12.2  1.974842        3              7   \n",
       "560        0.000000      27.8      12.8  1.732051        6              7   \n",
       "1280       0.000000      33.3      15.0  1.702939        7             11   \n",
       "56         1.140175       5.0      -1.1  1.843909        8              7   \n",
       "749        0.000000       6.1       3.3  1.581139        8             15   \n",
       "923        0.000000      32.2      16.7  1.483240        3              7   \n",
       "85         0.000000      12.8       6.1  2.073644        6             13   \n",
       "1088       2.302173       7.2       3.9  1.341641        8             14   \n",
       "147        0.000000      17.2      11.7  1.923538        6              7   \n",
       "755        0.000000      12.2       1.1  0.894427        8             14   \n",
       "\n",
       "      weather  \n",
       "983         4  \n",
       "560         4  \n",
       "1280        4  \n",
       "56          3  \n",
       "749         4  \n",
       "923         4  \n",
       "85          0  \n",
       "1088        2  \n",
       "147         4  \n",
       "755         4  "
      ]
     },
     "execution_count": 32,
     "metadata": {},
     "output_type": "execute_result"
    }
   ],
   "source": [
    "#checking for data\n",
    "df.sample(10)"
   ]
  },
  {
   "cell_type": "markdown",
   "id": "aaaba436",
   "metadata": {},
   "source": [
    "### Splitting data INTO DEPENDANT AND INDEPENDANT VARIABLES"
   ]
  },
  {
   "cell_type": "code",
   "execution_count": 33,
   "id": "fd7a0948",
   "metadata": {},
   "outputs": [],
   "source": [
    "#where x is independent variables and y is dependent\n",
    "x=((df.loc[:,df.columns!=\"weather\"]).astype(int)).values[:,0:]\n",
    "y=df[\"weather\"].values"
   ]
  },
  {
   "cell_type": "code",
   "execution_count": 34,
   "id": "b2e7aea9",
   "metadata": {},
   "outputs": [
    {
     "data": {
      "text/plain": [
       "array([0, 2, 4, 3, 1])"
      ]
     },
     "execution_count": 34,
     "metadata": {},
     "output_type": "execute_result"
    }
   ],
   "source": [
    "df.weather.unique()"
   ]
  },
  {
   "cell_type": "code",
   "execution_count": 35,
   "id": "87aa6832",
   "metadata": {},
   "outputs": [],
   "source": [
    "from sklearn.preprocessing import Normalizer\n",
    "scaler=Normalizer()           #normalizer scaler has been used \n",
    "x_scaled=scaler.fit_transform(x)"
   ]
  },
  {
   "cell_type": "code",
   "execution_count": 36,
   "id": "b1b98b98",
   "metadata": {},
   "outputs": [],
   "source": [
    "#training and testing data\n",
    "from sklearn.model_selection import train_test_split \n",
    "\n",
    "x_train,x_test,y_train,y_test=train_test_split(x,y,test_size=0.1,random_state=12)"
   ]
  },
  {
   "cell_type": "markdown",
   "id": "f9b65eb1",
   "metadata": {},
   "source": [
    "# Training the Model"
   ]
  },
  {
   "cell_type": "code",
   "execution_count": 37,
   "id": "3159921c",
   "metadata": {},
   "outputs": [
    {
     "name": "stdout",
     "output_type": "stream",
     "text": [
      "Logestic Regrssion Accuracy:75.00%\n"
     ]
    }
   ],
   "source": [
    "#Using logistic regression\n",
    "from sklearn.linear_model import LogisticRegression\n",
    "\n",
    "model_LR=LogisticRegression()\n",
    "model_LR.fit(x_train,y_train)\n",
    "print(\"Logestic Regrssion Accuracy:{:.2f}%\".format(model_LR.score(x_test,y_test)*100))"
   ]
  },
  {
   "cell_type": "code",
   "execution_count": 38,
   "id": "c5508739",
   "metadata": {},
   "outputs": [
    {
     "name": "stdout",
     "output_type": "stream",
     "text": [
      "Random Forest Accuracy:71.77%\n"
     ]
    }
   ],
   "source": [
    "# Using Random Forest Classifier algorithm to predict the weather\n",
    "# Training model on test data\n",
    "\n",
    "from sklearn.ensemble import RandomForestClassifier\n",
    "\n",
    "RF = RandomForestClassifier(max_depth=32,n_estimators=120,random_state=1)\n",
    "RF.fit(x_train,y_train)\n",
    "print(\"Random Forest Accuracy:{:.2f}%\".format(RF.score(x_test,y_test)*100))"
   ]
  },
  {
   "cell_type": "code",
   "execution_count": 39,
   "id": "3377a893",
   "metadata": {},
   "outputs": [
    {
     "data": {
      "text/plain": [
       "array([0.25497847, 0.2889189 , 0.22088448, 0.0359621 , 0.09345916,\n",
       "       0.10579689])"
      ]
     },
     "execution_count": 39,
     "metadata": {},
     "output_type": "execute_result"
    }
   ],
   "source": [
    "# To see importance of each variable in prediction\n",
    "RF.feature_importances_"
   ]
  },
  {
   "cell_type": "code",
   "execution_count": 40,
   "id": "0d64f5fa",
   "metadata": {},
   "outputs": [
    {
     "name": "stdout",
     "output_type": "stream",
     "text": [
      "Decision Tree Accuracy:64.52%\n"
     ]
    }
   ],
   "source": [
    "#Using Decision tree alorithm to predict weather\n",
    "from sklearn.tree import  DecisionTreeClassifier\n",
    "clf = DecisionTreeClassifier()\n",
    "\n",
    "clf = clf.fit(x_train,y_train)\n",
    "print(\"Decision Tree Accuracy:{:.2f}%\".format(clf.score(x_test,y_test)*100))"
   ]
  },
  {
   "cell_type": "markdown",
   "id": "f625eb2f",
   "metadata": {},
   "source": [
    "### hyper parameter tuning"
   ]
  },
  {
   "cell_type": "code",
   "execution_count": 41,
   "id": "b038ad48",
   "metadata": {},
   "outputs": [],
   "source": [
    "\n",
    "from sklearn.model_selection import GridSearchCV\n",
    "model_params = { \n",
    "    'random_forest': {\n",
    "        'model': RandomForestClassifier(),\n",
    "        'params' : {\n",
    "            'n_estimators': [1,5,10,15,20,25,30],\n",
    "            'n_estimators': [25,50,75,100]\n",
    "            \n",
    "        }\n",
    "    },\n",
    "    'logistic_regression' : {\n",
    "        'model': LogisticRegression(solver='liblinear'),\n",
    "        'params': {\n",
    "            'C': [1,5,10,15,20,25],\n",
    "            'max_iter' : [100 , 200 , 300 , 500],\n",
    "            'solver' : ['newton-cg' , 'lbfgs' , 'sag' , 'saga']\n",
    "        }\n",
    "    },\n",
    "    'decision_tree': {\n",
    "        'model': DecisionTreeClassifier(),\n",
    "        'params':{\n",
    "            'criterion':['gini','entropy'],\n",
    "            'splitter':['best', 'random'],\n",
    "            'random_state': [0.1,0.5,10,20,30,40,50]\n",
    "        }\n",
    "    }\n",
    "}"
   ]
  },
  {
   "cell_type": "code",
   "execution_count": 42,
   "id": "8a058af7",
   "metadata": {},
   "outputs": [
    {
     "data": {
      "text/html": [
       "<div>\n",
       "<style scoped>\n",
       "    .dataframe tbody tr th:only-of-type {\n",
       "        vertical-align: middle;\n",
       "    }\n",
       "\n",
       "    .dataframe tbody tr th {\n",
       "        vertical-align: top;\n",
       "    }\n",
       "\n",
       "    .dataframe thead th {\n",
       "        text-align: right;\n",
       "    }\n",
       "</style>\n",
       "<table border=\"1\" class=\"dataframe\">\n",
       "  <thead>\n",
       "    <tr style=\"text-align: right;\">\n",
       "      <th></th>\n",
       "      <th>model</th>\n",
       "      <th>best_score</th>\n",
       "      <th>best_params</th>\n",
       "    </tr>\n",
       "  </thead>\n",
       "  <tbody>\n",
       "    <tr>\n",
       "      <th>0</th>\n",
       "      <td>random_forest</td>\n",
       "      <td>0.699735</td>\n",
       "      <td>{'n_estimators': 75}</td>\n",
       "    </tr>\n",
       "    <tr>\n",
       "      <th>1</th>\n",
       "      <td>logistic_regression</td>\n",
       "      <td>0.736725</td>\n",
       "      <td>{'C': 1, 'max_iter': 300, 'solver': 'lbfgs'}</td>\n",
       "    </tr>\n",
       "    <tr>\n",
       "      <th>2</th>\n",
       "      <td>decision_tree</td>\n",
       "      <td>0.614981</td>\n",
       "      <td>{'criterion': 'entropy', 'random_state': 10, '...</td>\n",
       "    </tr>\n",
       "  </tbody>\n",
       "</table>\n",
       "</div>"
      ],
      "text/plain": [
       "                 model  best_score  \\\n",
       "0        random_forest    0.699735   \n",
       "1  logistic_regression    0.736725   \n",
       "2        decision_tree    0.614981   \n",
       "\n",
       "                                         best_params  \n",
       "0                               {'n_estimators': 75}  \n",
       "1       {'C': 1, 'max_iter': 300, 'solver': 'lbfgs'}  \n",
       "2  {'criterion': 'entropy', 'random_state': 10, '...  "
      ]
     },
     "execution_count": 42,
     "metadata": {},
     "output_type": "execute_result"
    }
   ],
   "source": [
    "\n",
    "scores = []\n",
    "for model_name, mp in model_params.items():\n",
    "    clf =  GridSearchCV(mp['model'], mp['params'], cv=5, return_train_score=False)\n",
    "    clf.fit(x_train, y_train)\n",
    "    scores.append({\n",
    "        'model': model_name,\n",
    "        'best_score': clf.best_score_,\n",
    "        'best_params': clf.best_params_\n",
    "    })\n",
    "    \n",
    "df_score = pd.DataFrame(scores,columns=['model','best_score','best_params'])\n",
    "df_score"
   ]
  },
  {
   "cell_type": "markdown",
   "id": "7bcb85f8",
   "metadata": {},
   "source": [
    "With the use of GridSearchCV, we have sucessfully found the the best value for hyperparameters which is known as hyperparameter tuning. logistic_regression classifier was fond to give an accuracy of 0.73 when c is 1, and max iteration is 300 with solver lbfgs.\n",
    "\n",
    "​"
   ]
  },
  {
   "cell_type": "markdown",
   "id": "2a6bd4fa",
   "metadata": {},
   "source": [
    "# Choosing the Best model"
   ]
  },
  {
   "cell_type": "code",
   "execution_count": 43,
   "id": "d2de7ceb",
   "metadata": {},
   "outputs": [
    {
     "data": {
      "text/plain": [
       "LogisticRegression(C=1, max_iter=300)"
      ]
     },
     "execution_count": 43,
     "metadata": {},
     "output_type": "execute_result"
    }
   ],
   "source": [
    "#Logistic regression model\n",
    "modelfinal=LogisticRegression(C= 1, max_iter =300, solver='lbfgs')\n",
    "modelfinal.fit(x_train,y_train)"
   ]
  },
  {
   "cell_type": "code",
   "execution_count": 44,
   "id": "6214605e",
   "metadata": {},
   "outputs": [
    {
     "data": {
      "text/plain": [
       "75.0"
      ]
     },
     "execution_count": 44,
     "metadata": {},
     "output_type": "execute_result"
    }
   ],
   "source": [
    "modelfinal.score(x_test,y_test)*100"
   ]
  },
  {
   "cell_type": "markdown",
   "id": "3a3d0a81",
   "metadata": {},
   "source": [
    "# Conclusion"
   ]
  },
  {
   "cell_type": "code",
   "execution_count": 45,
   "id": "23e19b02",
   "metadata": {},
   "outputs": [],
   "source": [
    "df.to_csv(\"weather.csv\")"
   ]
  },
  {
   "cell_type": "code",
   "execution_count": null,
   "id": "50f6a498",
   "metadata": {},
   "outputs": [],
   "source": []
  }
 ],
 "metadata": {
  "kernelspec": {
   "display_name": "Python 3 (ipykernel)",
   "language": "python",
   "name": "python3"
  },
  "language_info": {
   "codemirror_mode": {
    "name": "ipython",
    "version": 3
   },
   "file_extension": ".py",
   "mimetype": "text/x-python",
   "name": "python",
   "nbconvert_exporter": "python",
   "pygments_lexer": "ipython3",
   "version": "3.9.7"
  }
 },
 "nbformat": 4,
 "nbformat_minor": 5
}
